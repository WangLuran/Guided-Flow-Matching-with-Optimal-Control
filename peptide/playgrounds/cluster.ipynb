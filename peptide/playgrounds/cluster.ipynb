{
 "cells": [
  {
   "cell_type": "code",
   "execution_count": 1,
   "metadata": {},
   "outputs": [],
   "source": [
    "%load_ext autoreload\n",
    "%autoreload 2"
   ]
  },
  {
   "cell_type": "code",
   "execution_count": 2,
   "metadata": {},
   "outputs": [
    {
     "name": "stderr",
     "output_type": "stream",
     "text": [
      "/datapool/data2/home/jiahan/anaconda3/envs/SE3nv/lib/python3.9/site-packages/tqdm/auto.py:22: TqdmWarning: IProgress not found. Please update jupyter and ipywidgets. See https://ipywidgets.readthedocs.io/en/stable/user_install.html\n",
      "  from .autonotebook import tqdm as notebook_tqdm\n"
     ]
    }
   ],
   "source": [
    "import os\n",
    "import pandas as pd\n",
    "import numpy as np\n",
    "import logging\n",
    "import joblib\n",
    "import pickle\n",
    "import lmdb\n",
    "from Bio import PDB\n",
    "from Bio.PDB import PDBExceptions\n",
    "from torch.utils.data import Dataset\n",
    "from tqdm.auto import tqdm\n",
    "\n",
    "import torch\n",
    "import matplotlib.pyplot as plt\n",
    "import seaborn as sns\n",
    "\n",
    "import random"
   ]
  },
  {
   "cell_type": "code",
   "execution_count": 3,
   "metadata": {},
   "outputs": [],
   "source": [
    "from Bio.PDB import PDBParser\n",
    "from Bio.SeqUtils import seq1\n",
    "\n",
    "def get_fasta_from_pdb(pdb_file):\n",
    "    parser = PDBParser()\n",
    "    structure = parser.get_structure(\"pdb\", pdb_file)\n",
    "    \n",
    "    fasta_sequence = \"\"\n",
    "    for chain in structure.get_chains():\n",
    "        for residue in chain.get_residues():\n",
    "                fasta_sequence += seq1(residue.get_resname())\n",
    "    \n",
    "    return fasta_sequence"
   ]
  },
  {
   "cell_type": "code",
   "execution_count": 4,
   "metadata": {},
   "outputs": [
    {
     "data": {
      "text/plain": [
       "'D'"
      ]
     },
     "execution_count": 4,
     "metadata": {},
     "output_type": "execute_result"
    }
   ],
   "source": [
    "seq1('ASP')"
   ]
  },
  {
   "cell_type": "code",
   "execution_count": 5,
   "metadata": {},
   "outputs": [],
   "source": [
    "structure_dir = \"/datapool/data2/home/jiahan/Data/PepMerge_new/\"\n",
    "seqs_dir = \"/datapool/data2/home/jiahan/ResProj/PepDiff/frame-flow/Data/seqs\"\n",
    "bind_dic = torch.load(\"/datapool/data2/home/jiahan/ResProj/PepDiff/frame-flow/misc/affinity_dict.pt\")"
   ]
  },
  {
   "cell_type": "code",
   "execution_count": 6,
   "metadata": {},
   "outputs": [
    {
     "name": "stdout",
     "output_type": "stream",
     "text": [
      "10348\n",
      "9464\n"
     ]
    }
   ],
   "source": [
    "all_pdbs = os.listdir(structure_dir)\n",
    "print(len(all_pdbs))\n",
    "all_pdbs = [x for x in all_pdbs if x in bind_dic]\n",
    "print(len(all_pdbs))"
   ]
  },
  {
   "cell_type": "code",
   "execution_count": 7,
   "metadata": {},
   "outputs": [
    {
     "data": {
      "text/plain": [
       "'YDQTLFSIVEWARSSFRELKVDDQMKLLQNCWSLLPYNNLLIEMLHAK'"
      ]
     },
     "execution_count": 7,
     "metadata": {},
     "output_type": "execute_result"
    }
   ],
   "source": [
    "get_fasta_from_pdb(os.path.join(structure_dir,all_pdbs[0],'pocket.pdb'))"
   ]
  },
  {
   "cell_type": "code",
   "execution_count": null,
   "metadata": {},
   "outputs": [],
   "source": [
    "with open(os.path.join(seqs_dir,'seqs.fasta'),'w') as f:\n",
    "    for pdb in tqdm(all_pdbs):\n",
    "        fasta = get_fasta_from_pdb(os.path.join(structure_dir,pdb,'receptor.pdb'))\n",
    "        f.write(f'>{pdb}\\n')\n",
    "        f.write(fasta+'\\n')\n",
    "# mmseqs easy-cluster seqs.fasta clusterRes tmp --min-seq-id 0.4 -c 0.8 --cov-mode 1"
   ]
  },
  {
   "cell_type": "code",
   "execution_count": 4,
   "metadata": {},
   "outputs": [
    {
     "data": {
      "text/html": [
       "<div>\n",
       "<style scoped>\n",
       "    .dataframe tbody tr th:only-of-type {\n",
       "        vertical-align: middle;\n",
       "    }\n",
       "\n",
       "    .dataframe tbody tr th {\n",
       "        vertical-align: top;\n",
       "    }\n",
       "\n",
       "    .dataframe thead th {\n",
       "        text-align: right;\n",
       "    }\n",
       "</style>\n",
       "<table border=\"1\" class=\"dataframe\">\n",
       "  <thead>\n",
       "    <tr style=\"text-align: right;\">\n",
       "      <th></th>\n",
       "      <th>center</th>\n",
       "      <th>id</th>\n",
       "      <th>cnts</th>\n",
       "    </tr>\n",
       "  </thead>\n",
       "  <tbody>\n",
       "    <tr>\n",
       "      <th>720</th>\n",
       "      <td>6u3n_C</td>\n",
       "      <td>3kla_C</td>\n",
       "      <td>657</td>\n",
       "    </tr>\n",
       "    <tr>\n",
       "      <th>561</th>\n",
       "      <td>6u3n_C</td>\n",
       "      <td>5ib3_C</td>\n",
       "      <td>657</td>\n",
       "    </tr>\n",
       "    <tr>\n",
       "      <th>563</th>\n",
       "      <td>6u3n_C</td>\n",
       "      <td>5nmk_C</td>\n",
       "      <td>657</td>\n",
       "    </tr>\n",
       "    <tr>\n",
       "      <th>564</th>\n",
       "      <td>6u3n_C</td>\n",
       "      <td>3mrm_P</td>\n",
       "      <td>657</td>\n",
       "    </tr>\n",
       "    <tr>\n",
       "      <th>565</th>\n",
       "      <td>6u3n_C</td>\n",
       "      <td>6g9r_P</td>\n",
       "      <td>657</td>\n",
       "    </tr>\n",
       "    <tr>\n",
       "      <th>...</th>\n",
       "      <td>...</td>\n",
       "      <td>...</td>\n",
       "      <td>...</td>\n",
       "    </tr>\n",
       "    <tr>\n",
       "      <th>8617</th>\n",
       "      <td>1g0y_I</td>\n",
       "      <td>1g0y_I</td>\n",
       "      <td>1</td>\n",
       "    </tr>\n",
       "    <tr>\n",
       "      <th>4209</th>\n",
       "      <td>3c01_A</td>\n",
       "      <td>3c01_A</td>\n",
       "      <td>1</td>\n",
       "    </tr>\n",
       "    <tr>\n",
       "      <th>4198</th>\n",
       "      <td>4tjx_B</td>\n",
       "      <td>4tjx_B</td>\n",
       "      <td>1</td>\n",
       "    </tr>\n",
       "    <tr>\n",
       "      <th>4184</th>\n",
       "      <td>6ybb_1_III_C</td>\n",
       "      <td>6ybb_1_III_C</td>\n",
       "      <td>1</td>\n",
       "    </tr>\n",
       "    <tr>\n",
       "      <th>9463</th>\n",
       "      <td>4b45_B</td>\n",
       "      <td>4b45_B</td>\n",
       "      <td>1</td>\n",
       "    </tr>\n",
       "  </tbody>\n",
       "</table>\n",
       "<p>9464 rows × 3 columns</p>\n",
       "</div>"
      ],
      "text/plain": [
       "            center            id  cnts\n",
       "720         6u3n_C        3kla_C   657\n",
       "561         6u3n_C        5ib3_C   657\n",
       "563         6u3n_C        5nmk_C   657\n",
       "564         6u3n_C        3mrm_P   657\n",
       "565         6u3n_C        6g9r_P   657\n",
       "...            ...           ...   ...\n",
       "8617        1g0y_I        1g0y_I     1\n",
       "4209        3c01_A        3c01_A     1\n",
       "4198        4tjx_B        4tjx_B     1\n",
       "4184  6ybb_1_III_C  6ybb_1_III_C     1\n",
       "9463        4b45_B        4b45_B     1\n",
       "\n",
       "[9464 rows x 3 columns]"
      ]
     },
     "execution_count": 4,
     "metadata": {},
     "output_type": "execute_result"
    }
   ],
   "source": [
    "tab = pd.read_csv('/datapool/data2/home/jiahan/ResProj/PepDiff/frame-flow/Data/seqs/clusterRes_cluster.tsv',sep='\\t',header=None)\n",
    "tab.columns = ['center','id']\n",
    "tab['cnts'] = tab.groupby('center')['id'].transform('count')\n",
    "tab.sort_values('cnts',ascending=False,inplace=True)\n",
    "tab"
   ]
  },
  {
   "cell_type": "code",
   "execution_count": 13,
   "metadata": {},
   "outputs": [],
   "source": [
    "cnts = tab.drop_duplicates('center')"
   ]
  },
  {
   "cell_type": "code",
   "execution_count": 21,
   "metadata": {},
   "outputs": [
    {
     "data": {
      "text/plain": [
       "2019"
      ]
     },
     "execution_count": 21,
     "metadata": {},
     "output_type": "execute_result"
    }
   ],
   "source": [
    "cnts[cnts['cnts']<5]['cnts'].sum()"
   ]
  },
  {
   "cell_type": "code",
   "execution_count": 22,
   "metadata": {},
   "outputs": [
    {
     "data": {
      "text/plain": [
       "2019"
      ]
     },
     "execution_count": 22,
     "metadata": {},
     "output_type": "execute_result"
    }
   ],
   "source": [
    "cnts[cnts['cnts']<5]['cnts'].sum()"
   ]
  },
  {
   "cell_type": "code",
   "execution_count": 23,
   "metadata": {},
   "outputs": [
    {
     "data": {
      "text/plain": [
       "8365"
      ]
     },
     "execution_count": 23,
     "metadata": {},
     "output_type": "execute_result"
    }
   ],
   "source": [
    "10384-2019"
   ]
  },
  {
   "cell_type": "code",
   "execution_count": 11,
   "metadata": {},
   "outputs": [],
   "source": [
    "tab.to_csv('/datapool/data2/home/jiahan/ResProj/PepDiff/frame-flow/Data/seqs/center.csv',index=None)"
   ]
  },
  {
   "cell_type": "code",
   "execution_count": 5,
   "metadata": {},
   "outputs": [
    {
     "data": {
      "text/plain": [
       "1557"
      ]
     },
     "execution_count": 5,
     "metadata": {},
     "output_type": "execute_result"
    }
   ],
   "source": [
    "len(set(tab['center']))"
   ]
  },
  {
   "cell_type": "code",
   "execution_count": 10,
   "metadata": {},
   "outputs": [
    {
     "data": {
      "text/plain": [
       "1557"
      ]
     },
     "execution_count": 10,
     "metadata": {},
     "output_type": "execute_result"
    }
   ],
   "source": [
    "len(set(tab['center']))"
   ]
  },
  {
   "cell_type": "code",
   "execution_count": 7,
   "metadata": {},
   "outputs": [],
   "source": [
    "cnts = pd.DataFrame(tab['center'].value_counts())\n",
    "cnts = cnts.drop_duplicates(subset='center')\n",
    "cnts.to_csv('/datapool/data2/home/jiahan/ResProj/PepDiff/frame-flow/Data/seqs/center.csv',index=None)"
   ]
  },
  {
   "cell_type": "code",
   "execution_count": 7,
   "metadata": {},
   "outputs": [
    {
     "data": {
      "text/html": [
       "<div>\n",
       "<style scoped>\n",
       "    .dataframe tbody tr th:only-of-type {\n",
       "        vertical-align: middle;\n",
       "    }\n",
       "\n",
       "    .dataframe tbody tr th {\n",
       "        vertical-align: top;\n",
       "    }\n",
       "\n",
       "    .dataframe thead th {\n",
       "        text-align: right;\n",
       "    }\n",
       "</style>\n",
       "<table border=\"1\" class=\"dataframe\">\n",
       "  <thead>\n",
       "    <tr style=\"text-align: right;\">\n",
       "      <th></th>\n",
       "      <th>id</th>\n",
       "      <th>len</th>\n",
       "      <th>tran</th>\n",
       "      <th>aar</th>\n",
       "      <th>rot</th>\n",
       "      <th>trans_loss</th>\n",
       "      <th>rot_loss</th>\n",
       "    </tr>\n",
       "  </thead>\n",
       "  <tbody>\n",
       "    <tr>\n",
       "      <th>0</th>\n",
       "      <td>1a0n_A</td>\n",
       "      <td>14</td>\n",
       "      <td>8.903144</td>\n",
       "      <td>0.214286</td>\n",
       "      <td>2.382832</td>\n",
       "      <td>0.097863</td>\n",
       "      <td>1.207208</td>\n",
       "    </tr>\n",
       "    <tr>\n",
       "      <th>1</th>\n",
       "      <td>1a1m_C</td>\n",
       "      <td>9</td>\n",
       "      <td>0.920723</td>\n",
       "      <td>0.555556</td>\n",
       "      <td>0.370409</td>\n",
       "      <td>0.419278</td>\n",
       "      <td>0.570159</td>\n",
       "    </tr>\n",
       "    <tr>\n",
       "      <th>2</th>\n",
       "      <td>1a1n_C</td>\n",
       "      <td>8</td>\n",
       "      <td>0.678300</td>\n",
       "      <td>0.875000</td>\n",
       "      <td>0.452785</td>\n",
       "      <td>0.224458</td>\n",
       "      <td>0.172276</td>\n",
       "    </tr>\n",
       "    <tr>\n",
       "      <th>3</th>\n",
       "      <td>1a1o_C</td>\n",
       "      <td>9</td>\n",
       "      <td>0.713562</td>\n",
       "      <td>0.777778</td>\n",
       "      <td>0.573104</td>\n",
       "      <td>0.211861</td>\n",
       "      <td>0.160051</td>\n",
       "    </tr>\n",
       "    <tr>\n",
       "      <th>4</th>\n",
       "      <td>1a1r_C</td>\n",
       "      <td>16</td>\n",
       "      <td>1.512850</td>\n",
       "      <td>0.875000</td>\n",
       "      <td>1.068279</td>\n",
       "      <td>0.422904</td>\n",
       "      <td>0.476659</td>\n",
       "    </tr>\n",
       "    <tr>\n",
       "      <th>...</th>\n",
       "      <td>...</td>\n",
       "      <td>...</td>\n",
       "      <td>...</td>\n",
       "      <td>...</td>\n",
       "      <td>...</td>\n",
       "      <td>...</td>\n",
       "      <td>...</td>\n",
       "    </tr>\n",
       "    <tr>\n",
       "      <th>9459</th>\n",
       "      <td>8s9i_1_III_B</td>\n",
       "      <td>22</td>\n",
       "      <td>4.103814</td>\n",
       "      <td>0.272727</td>\n",
       "      <td>2.341589</td>\n",
       "      <td>2.404889</td>\n",
       "      <td>1.574362</td>\n",
       "    </tr>\n",
       "    <tr>\n",
       "      <th>9460</th>\n",
       "      <td>8siu_1_III_B</td>\n",
       "      <td>18</td>\n",
       "      <td>22.693531</td>\n",
       "      <td>0.111111</td>\n",
       "      <td>2.687794</td>\n",
       "      <td>0.371103</td>\n",
       "      <td>0.328657</td>\n",
       "    </tr>\n",
       "    <tr>\n",
       "      <th>9461</th>\n",
       "      <td>8sm5_5_III_J</td>\n",
       "      <td>17</td>\n",
       "      <td>3.152646</td>\n",
       "      <td>0.117647</td>\n",
       "      <td>1.861484</td>\n",
       "      <td>0.964529</td>\n",
       "      <td>0.384649</td>\n",
       "    </tr>\n",
       "    <tr>\n",
       "      <th>9462</th>\n",
       "      <td>8t0p_1_III_C</td>\n",
       "      <td>18</td>\n",
       "      <td>12.888019</td>\n",
       "      <td>0.055556</td>\n",
       "      <td>2.724181</td>\n",
       "      <td>0.546045</td>\n",
       "      <td>0.609222</td>\n",
       "    </tr>\n",
       "    <tr>\n",
       "      <th>9463</th>\n",
       "      <td>9lpr_P</td>\n",
       "      <td>3</td>\n",
       "      <td>0.261606</td>\n",
       "      <td>1.000000</td>\n",
       "      <td>0.238868</td>\n",
       "      <td>0.011789</td>\n",
       "      <td>0.270934</td>\n",
       "    </tr>\n",
       "  </tbody>\n",
       "</table>\n",
       "<p>9464 rows × 7 columns</p>\n",
       "</div>"
      ],
      "text/plain": [
       "                id  len       tran       aar       rot  trans_loss  rot_loss\n",
       "0           1a0n_A   14   8.903144  0.214286  2.382832    0.097863  1.207208\n",
       "1           1a1m_C    9   0.920723  0.555556  0.370409    0.419278  0.570159\n",
       "2           1a1n_C    8   0.678300  0.875000  0.452785    0.224458  0.172276\n",
       "3           1a1o_C    9   0.713562  0.777778  0.573104    0.211861  0.160051\n",
       "4           1a1r_C   16   1.512850  0.875000  1.068279    0.422904  0.476659\n",
       "...            ...  ...        ...       ...       ...         ...       ...\n",
       "9459  8s9i_1_III_B   22   4.103814  0.272727  2.341589    2.404889  1.574362\n",
       "9460  8siu_1_III_B   18  22.693531  0.111111  2.687794    0.371103  0.328657\n",
       "9461  8sm5_5_III_J   17   3.152646  0.117647  1.861484    0.964529  0.384649\n",
       "9462  8t0p_1_III_C   18  12.888019  0.055556  2.724181    0.546045  0.609222\n",
       "9463        9lpr_P    3   0.261606  1.000000  0.238868    0.011789  0.270934\n",
       "\n",
       "[9464 rows x 7 columns]"
      ]
     },
     "execution_count": 7,
     "metadata": {},
     "output_type": "execute_result"
    }
   ],
   "source": [
    "samples = pd.read_csv(\"/datapool/data2/home/jiahan/Res Proj/PepDiff/frame-flow/misc/231220/sample_all.csv\")\n",
    "samples"
   ]
  },
  {
   "cell_type": "code",
   "execution_count": 8,
   "metadata": {},
   "outputs": [],
   "source": [
    "res = pd.merge(tab,samples,on='id')\n",
    "# res[['center','id','cnts','len']].to_csv('/datapool/data2/home/jiahan/Res Proj/PepDiff/frame-flow/Data/seqs/meta_data.csv',index=False)\n",
    "res.to_csv('/datapool/data2/home/jiahan/Res Proj/PepDiff/frame-flow/Data/seqs/meta_data.csv',index=False)"
   ]
  },
  {
   "cell_type": "code",
   "execution_count": 9,
   "metadata": {},
   "outputs": [
    {
     "data": {
      "text/html": [
       "<div>\n",
       "<style scoped>\n",
       "    .dataframe tbody tr th:only-of-type {\n",
       "        vertical-align: middle;\n",
       "    }\n",
       "\n",
       "    .dataframe tbody tr th {\n",
       "        vertical-align: top;\n",
       "    }\n",
       "\n",
       "    .dataframe thead th {\n",
       "        text-align: right;\n",
       "    }\n",
       "</style>\n",
       "<table border=\"1\" class=\"dataframe\">\n",
       "  <thead>\n",
       "    <tr style=\"text-align: right;\">\n",
       "      <th></th>\n",
       "      <th>center</th>\n",
       "      <th>id</th>\n",
       "      <th>cnts</th>\n",
       "      <th>len</th>\n",
       "      <th>tran</th>\n",
       "      <th>aar</th>\n",
       "      <th>rot</th>\n",
       "      <th>trans_loss</th>\n",
       "      <th>rot_loss</th>\n",
       "    </tr>\n",
       "  </thead>\n",
       "  <tbody>\n",
       "    <tr>\n",
       "      <th>0</th>\n",
       "      <td>6u3n_C</td>\n",
       "      <td>3kla_C</td>\n",
       "      <td>657</td>\n",
       "      <td>9</td>\n",
       "      <td>0.917654</td>\n",
       "      <td>0.666667</td>\n",
       "      <td>0.654739</td>\n",
       "      <td>0.060250</td>\n",
       "      <td>0.475746</td>\n",
       "    </tr>\n",
       "    <tr>\n",
       "      <th>1</th>\n",
       "      <td>6u3n_C</td>\n",
       "      <td>5ib3_C</td>\n",
       "      <td>657</td>\n",
       "      <td>9</td>\n",
       "      <td>0.668258</td>\n",
       "      <td>0.444444</td>\n",
       "      <td>0.365615</td>\n",
       "      <td>0.129841</td>\n",
       "      <td>0.102632</td>\n",
       "    </tr>\n",
       "    <tr>\n",
       "      <th>2</th>\n",
       "      <td>6u3n_C</td>\n",
       "      <td>5nmk_C</td>\n",
       "      <td>657</td>\n",
       "      <td>9</td>\n",
       "      <td>0.797159</td>\n",
       "      <td>0.888889</td>\n",
       "      <td>0.278266</td>\n",
       "      <td>0.109927</td>\n",
       "      <td>0.236671</td>\n",
       "    </tr>\n",
       "    <tr>\n",
       "      <th>3</th>\n",
       "      <td>6u3n_C</td>\n",
       "      <td>3mrm_P</td>\n",
       "      <td>657</td>\n",
       "      <td>10</td>\n",
       "      <td>0.709478</td>\n",
       "      <td>0.600000</td>\n",
       "      <td>0.199372</td>\n",
       "      <td>0.101338</td>\n",
       "      <td>0.088611</td>\n",
       "    </tr>\n",
       "    <tr>\n",
       "      <th>4</th>\n",
       "      <td>6u3n_C</td>\n",
       "      <td>6g9r_P</td>\n",
       "      <td>657</td>\n",
       "      <td>9</td>\n",
       "      <td>0.816782</td>\n",
       "      <td>0.888889</td>\n",
       "      <td>0.291310</td>\n",
       "      <td>0.237174</td>\n",
       "      <td>0.124762</td>\n",
       "    </tr>\n",
       "    <tr>\n",
       "      <th>...</th>\n",
       "      <td>...</td>\n",
       "      <td>...</td>\n",
       "      <td>...</td>\n",
       "      <td>...</td>\n",
       "      <td>...</td>\n",
       "      <td>...</td>\n",
       "      <td>...</td>\n",
       "      <td>...</td>\n",
       "      <td>...</td>\n",
       "    </tr>\n",
       "    <tr>\n",
       "      <th>9459</th>\n",
       "      <td>1g0y_I</td>\n",
       "      <td>1g0y_I</td>\n",
       "      <td>1</td>\n",
       "      <td>21</td>\n",
       "      <td>13.338346</td>\n",
       "      <td>0.047619</td>\n",
       "      <td>2.600826</td>\n",
       "      <td>0.386976</td>\n",
       "      <td>0.615135</td>\n",
       "    </tr>\n",
       "    <tr>\n",
       "      <th>9460</th>\n",
       "      <td>3c01_A</td>\n",
       "      <td>3c01_A</td>\n",
       "      <td>1</td>\n",
       "      <td>20</td>\n",
       "      <td>9.313918</td>\n",
       "      <td>0.300000</td>\n",
       "      <td>2.057358</td>\n",
       "      <td>0.151006</td>\n",
       "      <td>0.600791</td>\n",
       "    </tr>\n",
       "    <tr>\n",
       "      <th>9461</th>\n",
       "      <td>4tjx_B</td>\n",
       "      <td>4tjx_B</td>\n",
       "      <td>1</td>\n",
       "      <td>3</td>\n",
       "      <td>0.425327</td>\n",
       "      <td>1.000000</td>\n",
       "      <td>0.507535</td>\n",
       "      <td>0.018409</td>\n",
       "      <td>1.391891</td>\n",
       "    </tr>\n",
       "    <tr>\n",
       "      <th>9462</th>\n",
       "      <td>6ybb_1_III_C</td>\n",
       "      <td>6ybb_1_III_C</td>\n",
       "      <td>1</td>\n",
       "      <td>22</td>\n",
       "      <td>7.948393</td>\n",
       "      <td>0.272727</td>\n",
       "      <td>2.600759</td>\n",
       "      <td>0.083613</td>\n",
       "      <td>0.395743</td>\n",
       "    </tr>\n",
       "    <tr>\n",
       "      <th>9463</th>\n",
       "      <td>4b45_B</td>\n",
       "      <td>4b45_B</td>\n",
       "      <td>1</td>\n",
       "      <td>13</td>\n",
       "      <td>2.918769</td>\n",
       "      <td>0.384615</td>\n",
       "      <td>1.638614</td>\n",
       "      <td>0.522243</td>\n",
       "      <td>0.599023</td>\n",
       "    </tr>\n",
       "  </tbody>\n",
       "</table>\n",
       "<p>9464 rows × 9 columns</p>\n",
       "</div>"
      ],
      "text/plain": [
       "            center            id  cnts  len       tran       aar       rot  \\\n",
       "0           6u3n_C        3kla_C   657    9   0.917654  0.666667  0.654739   \n",
       "1           6u3n_C        5ib3_C   657    9   0.668258  0.444444  0.365615   \n",
       "2           6u3n_C        5nmk_C   657    9   0.797159  0.888889  0.278266   \n",
       "3           6u3n_C        3mrm_P   657   10   0.709478  0.600000  0.199372   \n",
       "4           6u3n_C        6g9r_P   657    9   0.816782  0.888889  0.291310   \n",
       "...            ...           ...   ...  ...        ...       ...       ...   \n",
       "9459        1g0y_I        1g0y_I     1   21  13.338346  0.047619  2.600826   \n",
       "9460        3c01_A        3c01_A     1   20   9.313918  0.300000  2.057358   \n",
       "9461        4tjx_B        4tjx_B     1    3   0.425327  1.000000  0.507535   \n",
       "9462  6ybb_1_III_C  6ybb_1_III_C     1   22   7.948393  0.272727  2.600759   \n",
       "9463        4b45_B        4b45_B     1   13   2.918769  0.384615  1.638614   \n",
       "\n",
       "      trans_loss  rot_loss  \n",
       "0       0.060250  0.475746  \n",
       "1       0.129841  0.102632  \n",
       "2       0.109927  0.236671  \n",
       "3       0.101338  0.088611  \n",
       "4       0.237174  0.124762  \n",
       "...          ...       ...  \n",
       "9459    0.386976  0.615135  \n",
       "9460    0.151006  0.600791  \n",
       "9461    0.018409  1.391891  \n",
       "9462    0.083613  0.395743  \n",
       "9463    0.522243  0.599023  \n",
       "\n",
       "[9464 rows x 9 columns]"
      ]
     },
     "execution_count": 9,
     "metadata": {},
     "output_type": "execute_result"
    }
   ],
   "source": [
    "res = pd.read_csv('/datapool/data2/home/jiahan/Res Proj/PepDiff/frame-flow/Data/seqs/meta_data.csv')\n",
    "res"
   ]
  },
  {
   "cell_type": "code",
   "execution_count": 10,
   "metadata": {},
   "outputs": [
    {
     "data": {
      "text/plain": [
       "158"
      ]
     },
     "execution_count": 10,
     "metadata": {},
     "output_type": "execute_result"
    }
   ],
   "source": [
    "centers = set((res[(res['cnts']>=10)&(res['cnts']<=100)])['center'])\n",
    "len(centers)"
   ]
  },
  {
   "cell_type": "code",
   "execution_count": 23,
   "metadata": {},
   "outputs": [
    {
     "name": "stderr",
     "output_type": "stream",
     "text": [
      "/tmp/ipykernel_1887023/2882254611.py:1: DeprecationWarning: Sampling from a set deprecated\n",
      "since Python 3.9 and will be removed in a subsequent version.\n",
      "  tests = random.sample(centers, 10)\n"
     ]
    }
   ],
   "source": [
    "tests = random.sample(centers, 10)"
   ]
  },
  {
   "cell_type": "code",
   "execution_count": 24,
   "metadata": {},
   "outputs": [
    {
     "data": {
      "text/html": [
       "<div>\n",
       "<style scoped>\n",
       "    .dataframe tbody tr th:only-of-type {\n",
       "        vertical-align: middle;\n",
       "    }\n",
       "\n",
       "    .dataframe tbody tr th {\n",
       "        vertical-align: top;\n",
       "    }\n",
       "\n",
       "    .dataframe thead th {\n",
       "        text-align: right;\n",
       "    }\n",
       "</style>\n",
       "<table border=\"1\" class=\"dataframe\">\n",
       "  <thead>\n",
       "    <tr style=\"text-align: right;\">\n",
       "      <th></th>\n",
       "      <th>center</th>\n",
       "      <th>id</th>\n",
       "      <th>cnts</th>\n",
       "      <th>len</th>\n",
       "      <th>tran</th>\n",
       "      <th>aar</th>\n",
       "      <th>rot</th>\n",
       "      <th>trans_loss</th>\n",
       "      <th>rot_loss</th>\n",
       "    </tr>\n",
       "  </thead>\n",
       "  <tbody>\n",
       "    <tr>\n",
       "      <th>3941</th>\n",
       "      <td>8dgo_1_III_C</td>\n",
       "      <td>1r1s_B</td>\n",
       "      <td>36</td>\n",
       "      <td>6</td>\n",
       "      <td>0.679843</td>\n",
       "      <td>0.833333</td>\n",
       "      <td>0.430853</td>\n",
       "      <td>0.337473</td>\n",
       "      <td>0.250865</td>\n",
       "    </tr>\n",
       "    <tr>\n",
       "      <th>3943</th>\n",
       "      <td>8dgo_1_III_C</td>\n",
       "      <td>8dgo_1_III_C</td>\n",
       "      <td>36</td>\n",
       "      <td>4</td>\n",
       "      <td>0.425329</td>\n",
       "      <td>1.000000</td>\n",
       "      <td>0.482743</td>\n",
       "      <td>0.090849</td>\n",
       "      <td>0.363330</td>\n",
       "    </tr>\n",
       "    <tr>\n",
       "      <th>3944</th>\n",
       "      <td>8dgo_1_III_C</td>\n",
       "      <td>1jyr_L</td>\n",
       "      <td>36</td>\n",
       "      <td>9</td>\n",
       "      <td>0.946899</td>\n",
       "      <td>0.888889</td>\n",
       "      <td>0.403077</td>\n",
       "      <td>0.162988</td>\n",
       "      <td>0.471346</td>\n",
       "    </tr>\n",
       "    <tr>\n",
       "      <th>3945</th>\n",
       "      <td>8dgo_1_III_C</td>\n",
       "      <td>3mxy_L</td>\n",
       "      <td>36</td>\n",
       "      <td>7</td>\n",
       "      <td>0.897764</td>\n",
       "      <td>1.000000</td>\n",
       "      <td>1.040277</td>\n",
       "      <td>0.093215</td>\n",
       "      <td>0.483877</td>\n",
       "    </tr>\n",
       "    <tr>\n",
       "      <th>3946</th>\n",
       "      <td>8dgo_1_III_C</td>\n",
       "      <td>2h5k_C</td>\n",
       "      <td>36</td>\n",
       "      <td>3</td>\n",
       "      <td>0.386013</td>\n",
       "      <td>1.000000</td>\n",
       "      <td>0.431408</td>\n",
       "      <td>0.270294</td>\n",
       "      <td>0.130450</td>\n",
       "    </tr>\n",
       "    <tr>\n",
       "      <th>...</th>\n",
       "      <td>...</td>\n",
       "      <td>...</td>\n",
       "      <td>...</td>\n",
       "      <td>...</td>\n",
       "      <td>...</td>\n",
       "      <td>...</td>\n",
       "      <td>...</td>\n",
       "      <td>...</td>\n",
       "      <td>...</td>\n",
       "    </tr>\n",
       "    <tr>\n",
       "      <th>6194</th>\n",
       "      <td>2r02_B</td>\n",
       "      <td>3c3o_B</td>\n",
       "      <td>10</td>\n",
       "      <td>13</td>\n",
       "      <td>3.789058</td>\n",
       "      <td>0.230769</td>\n",
       "      <td>2.498516</td>\n",
       "      <td>0.384786</td>\n",
       "      <td>0.289986</td>\n",
       "    </tr>\n",
       "    <tr>\n",
       "      <th>6201</th>\n",
       "      <td>2r02_B</td>\n",
       "      <td>2r05_B</td>\n",
       "      <td>10</td>\n",
       "      <td>11</td>\n",
       "      <td>1.030670</td>\n",
       "      <td>0.727273</td>\n",
       "      <td>0.303218</td>\n",
       "      <td>0.352307</td>\n",
       "      <td>0.148563</td>\n",
       "    </tr>\n",
       "    <tr>\n",
       "      <th>6211</th>\n",
       "      <td>2r02_B</td>\n",
       "      <td>5v3r_B</td>\n",
       "      <td>10</td>\n",
       "      <td>13</td>\n",
       "      <td>3.138704</td>\n",
       "      <td>0.384615</td>\n",
       "      <td>2.109781</td>\n",
       "      <td>0.197829</td>\n",
       "      <td>0.174575</td>\n",
       "    </tr>\n",
       "    <tr>\n",
       "      <th>6212</th>\n",
       "      <td>2r02_B</td>\n",
       "      <td>2xs1_B</td>\n",
       "      <td>10</td>\n",
       "      <td>15</td>\n",
       "      <td>3.713773</td>\n",
       "      <td>0.066667</td>\n",
       "      <td>2.264070</td>\n",
       "      <td>0.378179</td>\n",
       "      <td>0.197648</td>\n",
       "    </tr>\n",
       "    <tr>\n",
       "      <th>6213</th>\n",
       "      <td>2r02_B</td>\n",
       "      <td>2xs8_B</td>\n",
       "      <td>10</td>\n",
       "      <td>9</td>\n",
       "      <td>0.675743</td>\n",
       "      <td>0.555556</td>\n",
       "      <td>0.338236</td>\n",
       "      <td>0.167338</td>\n",
       "      <td>0.294312</td>\n",
       "    </tr>\n",
       "  </tbody>\n",
       "</table>\n",
       "<p>187 rows × 9 columns</p>\n",
       "</div>"
      ],
      "text/plain": [
       "            center            id  cnts  len      tran       aar       rot  \\\n",
       "3941  8dgo_1_III_C        1r1s_B    36    6  0.679843  0.833333  0.430853   \n",
       "3943  8dgo_1_III_C  8dgo_1_III_C    36    4  0.425329  1.000000  0.482743   \n",
       "3944  8dgo_1_III_C        1jyr_L    36    9  0.946899  0.888889  0.403077   \n",
       "3945  8dgo_1_III_C        3mxy_L    36    7  0.897764  1.000000  1.040277   \n",
       "3946  8dgo_1_III_C        2h5k_C    36    3  0.386013  1.000000  0.431408   \n",
       "...            ...           ...   ...  ...       ...       ...       ...   \n",
       "6194        2r02_B        3c3o_B    10   13  3.789058  0.230769  2.498516   \n",
       "6201        2r02_B        2r05_B    10   11  1.030670  0.727273  0.303218   \n",
       "6211        2r02_B        5v3r_B    10   13  3.138704  0.384615  2.109781   \n",
       "6212        2r02_B        2xs1_B    10   15  3.713773  0.066667  2.264070   \n",
       "6213        2r02_B        2xs8_B    10    9  0.675743  0.555556  0.338236   \n",
       "\n",
       "      trans_loss  rot_loss  \n",
       "3941    0.337473  0.250865  \n",
       "3943    0.090849  0.363330  \n",
       "3944    0.162988  0.471346  \n",
       "3945    0.093215  0.483877  \n",
       "3946    0.270294  0.130450  \n",
       "...          ...       ...  \n",
       "6194    0.384786  0.289986  \n",
       "6201    0.352307  0.148563  \n",
       "6211    0.197829  0.174575  \n",
       "6212    0.378179  0.197648  \n",
       "6213    0.167338  0.294312  \n",
       "\n",
       "[187 rows x 9 columns]"
      ]
     },
     "execution_count": 24,
     "metadata": {},
     "output_type": "execute_result"
    }
   ],
   "source": [
    "tmp = res[res['center'].isin(tests)]\n",
    "tmp"
   ]
  },
  {
   "cell_type": "code",
   "execution_count": 25,
   "metadata": {},
   "outputs": [
    {
     "data": {
      "text/plain": [
       "2.3520436403266887"
      ]
     },
     "execution_count": 25,
     "metadata": {},
     "output_type": "execute_result"
    }
   ],
   "source": [
    "tmp['tran'].mean()"
   ]
  },
  {
   "cell_type": "code",
   "execution_count": 26,
   "metadata": {},
   "outputs": [],
   "source": [
    "with open(\"/datapool/data2/home/jiahan/Res Proj/PepDiff/frame-flow/Data/RF_samples/names.txt\",'w') as f:\n",
    "    for i,row in tmp.iterrows():\n",
    "        f.write(row['id']+'\\n')"
   ]
  },
  {
   "cell_type": "code",
   "execution_count": null,
   "metadata": {},
   "outputs": [],
   "source": []
  }
 ],
 "metadata": {
  "kernelspec": {
   "display_name": "foldy",
   "language": "python",
   "name": "python3"
  },
  "language_info": {
   "codemirror_mode": {
    "name": "ipython",
    "version": 3
   },
   "file_extension": ".py",
   "mimetype": "text/x-python",
   "name": "python",
   "nbconvert_exporter": "python",
   "pygments_lexer": "ipython3",
   "version": "3.9.17"
  }
 },
 "nbformat": 4,
 "nbformat_minor": 2
}
